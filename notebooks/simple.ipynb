{
 "cells": [
  {
   "cell_type": "markdown",
   "id": "59e22577-192b-4827-8b33-3879191e88a0",
   "metadata": {},
   "source": [
    "![jupyterlite](../images/jupyterlite.png) ![jupyter](../images/jupyter.png)"
   ]
  },
  {
   "cell_type": "code",
   "execution_count": 1,
   "id": "37abd1c6-06b5-4779-9b63-27d1b74ff801",
   "metadata": {},
   "outputs": [
    {
     "name": "stdout",
     "output_type": "stream",
     "text": [
      "Hello world!\n"
     ]
    }
   ],
   "source": [
    "print(\"Hello world!\")"
   ]
  }
 ],
 "metadata": {
  "kernelspec": {
   "display_name": "Python 3 (ipykernel)",
   "language": "python",
   "name": "python3"
  },
  "language_info": {
   "codemirror_mode": {
    "name": "ipython",
    "version": 3
   },
   "file_extension": ".py",
   "mimetype": "text/x-python",
   "name": "python",
   "nbconvert_exporter": "python",
   "pygments_lexer": "ipython3",
   "version": "3.11.5"
  }
 },
 "nbformat": 4,
 "nbformat_minor": 5
}
